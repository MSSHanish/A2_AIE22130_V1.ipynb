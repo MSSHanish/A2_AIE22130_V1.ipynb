{
  "nbformat": 4,
  "nbformat_minor": 0,
  "metadata": {
    "colab": {
      "provenance": []
    },
    "kernelspec": {
      "name": "python3",
      "display_name": "Python 3"
    },
    "language_info": {
      "name": "python"
    }
  },
  "cells": [
    {
      "cell_type": "code",
      "execution_count": 2,
      "metadata": {
        "colab": {
          "base_uri": "https://localhost:8080/"
        },
        "id": "Tj2eBxHMb-hE",
        "outputId": "03330b3b-54da-4df9-f8d1-80940f3a8135"
      },
      "outputs": [
        {
          "output_type": "stream",
          "name": "stdout",
          "text": [
            "Enter the first vector values (comma-separated): 1,2\n",
            "Enter the second vector values (comma-separated): 2,3\n",
            "Enter the value of k for k-NN: 3\n",
            "Enter categorical data (comma-separated): 'apple', 'banana', 'orange', 'apple', 'orange', 'banana'\n",
            "Euclidean Distance: 1.4142135623730951\n",
            "Manhattan Distance: 2.0\n",
            "Predicted Label using k-NN: A\n",
            "Label Encoded Data: [0, 3, 1, 2, 1, 3]\n",
            "One-Hot Encoded Data: [[1, 0, 0, 0], [0, 0, 0, 1], [0, 1, 0, 0], [0, 0, 1, 0], [0, 1, 0, 0], [0, 0, 0, 1]]\n"
          ]
        }
      ],
      "source": [
        "import math\n",
        "\n",
        "# Function to calculate Euclidean distance between two vectors\n",
        "def euclidean_distance(vector1, vector2):\n",
        "    distance = math.sqrt(sum((x - y) ** 2 for x, y in zip(vector1, vector2)))\n",
        "    return distance\n",
        "\n",
        "# Function to calculate Manhattan distance between two vectors\n",
        "def manhattan_distance(vector1, vector2):\n",
        "    distance = sum(abs(x - y) for x, y in zip(vector1, vector2))\n",
        "    return distance\n",
        "\n",
        "# Function to implement k-NN classifier\n",
        "def k_nn_classifier(training_data, test_instance, k):\n",
        "    distances = [(euclidean_distance(test_instance, x[0]), x[1]) for x in training_data]\n",
        "    sorted_distances = sorted(distances, key=lambda x: x[0])\n",
        "    k_nearest_neighbors = sorted_distances[:k]\n",
        "    labels = [neighbor[1] for neighbor in k_nearest_neighbors]\n",
        "    # Assuming labels are categorical and selecting the most common label as prediction\n",
        "    predicted_label = max(set(labels), key=labels.count)\n",
        "    return predicted_label\n",
        "\n",
        "# Function to convert categorical variables to numeric using label encoding\n",
        "def label_encoding_categorical(data):\n",
        "    unique_values = list(set(data))\n",
        "    encoding_dict = {value: index for index, value in enumerate(unique_values)}\n",
        "    encoded_data = [encoding_dict[value] for value in data]\n",
        "    return encoded_data\n",
        "\n",
        "# Function to convert categorical variables to numeric using One-Hot encoding\n",
        "def one_hot_encoding_categorical(data):\n",
        "\n",
        "    unique_values = list(set(data))\n",
        "    one_hot_encoded_data = [[1 if value == val else 0 for val in unique_values] for value in data]\n",
        "    return one_hot_encoded_data\n",
        "\n",
        "# Main program\n",
        "if __name__ == \"__main__\":\n",
        "    # Take input from the user\n",
        "    vector1 = [float(x) for x in input(\"Enter the first vector values (comma-separated): \").split(',')]\n",
        "    vector2 = [float(x) for x in input(\"Enter the second vector values (comma-separated): \").split(',')]\n",
        "    k_value = int(input(\"Enter the value of k for k-NN: \"))\n",
        "    categorical_data = input(\"Enter categorical data (comma-separated): \").split(',')\n",
        "\n",
        "    # Euclidean distance\n",
        "    euclidean_dist = euclidean_distance(vector1, vector2)\n",
        "    print(f\"Euclidean Distance: {euclidean_dist}\")\n",
        "\n",
        "    # Manhattan distance\n",
        "    manhattan_dist = manhattan_distance(vector1, vector2)\n",
        "    print(f\"Manhattan Distance: {manhattan_dist}\")\n",
        "\n",
        "    # k-NN classifier\n",
        "    training_data = [([1, 2], 'A'), ([2, 3], 'B'), ([3, 4], 'A'), ([4, 5], 'B')]  # Example training data\n",
        "    predicted_label = k_nn_classifier(training_data, vector1, k_value)\n",
        "    print(f\"Predicted Label using k-NN: {predicted_label}\")\n",
        "\n",
        "    # Label encoding\n",
        "    label_encoded_data = label_encoding_categorical(categorical_data)\n",
        "    print(f\"Label Encoded Data: {label_encoded_data}\")\n",
        "\n",
        "    # One-Hot encoding\n",
        "    one_hot_encoded_data = one_hot_encoding_categorical(categorical_data)\n",
        "    print(f\"One-Hot Encoded Data: {one_hot_encoded_data}\")\n"
      ]
    }
  ]
}